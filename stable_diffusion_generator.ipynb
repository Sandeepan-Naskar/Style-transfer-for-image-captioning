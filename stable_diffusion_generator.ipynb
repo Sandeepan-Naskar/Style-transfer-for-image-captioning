{
 "cells": [
  {
   "cell_type": "code",
   "execution_count": null,
   "metadata": {},
   "outputs": [],
   "source": [
    "%pip install diffusers\n",
    "%nvidia-smi"
   ]
  },
  {
   "cell_type": "code",
   "execution_count": null,
   "metadata": {},
   "outputs": [],
   "source": [
    "import torch\n",
    "import os\n",
    "from PIL import Image\n",
    "from diffusers import StableDiffusionImg2ImgPipeline"
   ]
  },
  {
   "cell_type": "code",
   "execution_count": null,
   "metadata": {},
   "outputs": [],
   "source": [
    "device = torch.device(\"cuda:0\" if torch.cuda.is_available() else \"cpu\")\n",
    "model_id_or_path = \"runwayml/stable-diffusion-v1-5\"\n",
    "pipe = StableDiffusionImg2ImgPipeline.from_pretrained(model_id_or_path, torch_dtype=torch.float16)\n",
    "pipe = pipe.to(device)"
   ]
  },
  {
   "cell_type": "code",
   "execution_count": null,
   "metadata": {},
   "outputs": [],
   "source": [
    "#Read input images from image_data directory\n",
    "input_images = []\n",
    "for filename in os.listdir('/content/Style-transfer-for-image-captioning/image_data'):\n",
    "    img = Image.open(f'/content/Style-transfer-for-image-captioning/image_data/{filename}').convert(\"RGB\")\n",
    "    img = img.resize((768, 512))\n",
    "    input_images.append(img)\n",
    "\n",
    "# read prompts from directory style_prompt\n",
    "prompts = []\n",
    "for filename in os.listdir('/content/Style-transfer-for-image-captioning/style_prompt'):\n",
    "    with open(f'/content/Style-transfer-for-image-captioning/style_prompt/{filename}', 'r') as file:\n",
    "        prompt = file.read().replace('\\n', '')\n",
    "        prompts.append(prompt)\n",
    "\n",
    "print(len(input_images))\n",
    "print(prompts)"
   ]
  },
  {
   "cell_type": "code",
   "execution_count": null,
   "metadata": {},
   "outputs": [],
   "source": [
    "# generate images\n",
    "output_images = []\n",
    "for i in range(len(input_images)):\n",
    "    images = pipe(prompt=prompts[i], image=input_images[i], strength=0.75, guidance_scale=7.5).images\n",
    "    output_images.append(images[0])"
   ]
  },
  {
   "cell_type": "code",
   "execution_count": null,
   "metadata": {},
   "outputs": [],
   "source": [
    "# save output images to output_images directory\n",
    "for i in range(len(output_images)):\n",
    "    output_images[i].save(f'/content/Style-transfer-for-image-captioning/output_images/output_image_{i}.png')"
   ]
  }
 ],
 "metadata": {
  "language_info": {
   "name": "python"
  }
 },
 "nbformat": 4,
 "nbformat_minor": 2
}
