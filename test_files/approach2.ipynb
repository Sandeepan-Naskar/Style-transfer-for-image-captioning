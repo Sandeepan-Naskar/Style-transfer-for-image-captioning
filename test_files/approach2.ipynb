{
 "cells": [
  {
   "cell_type": "code",
   "execution_count": 23,
   "metadata": {},
   "outputs": [],
   "source": [
    "import clip\n",
    "import torch\n",
    "from PIL import Image\n",
    "import torchvision.transforms as transforms\n",
    "\n",
    "# Load CLIP model\n",
    "device = \"cuda\" if torch.cuda.is_available() else \"cpu\"\n",
    "model, preprocess = clip.load(\"ViT-B/32\", device=device)\n",
    "\n",
    "# Load an image\n",
    "# image_path = \"C:/Users/naska/fiftyone/coco-2017/train/data/000000000009.jpg\"\n",
    "image_path = \"./image.jpg\"\n",
    "image = Image.open(image_path)\n",
    "\n",
    "# Convert the image to RGB (if it's not already in RGB format)\n",
    "# image = image.convert(\"RGB\")\n",
    "\n",
    "# Preprocess the image\n",
    "image_input = preprocess(image).unsqueeze(0).to(device)\n",
    "\n",
    "# Encode the image\n",
    "with torch.no_grad():\n",
    "    image_features = model.encode_image(image_input)\n",
    "\n",
    "# Choose a caption for style transfer\n",
    "caption = \"a painting of a forest\"\n",
    "\n",
    "# Encode the text\n",
    "text_input = clip.tokenize([caption]).to(device)\n",
    "text_features = model.encode_text(text_input)\n",
    "\n",
    "# Initialize a random image for optimization\n",
    "stylized_image = image_input.clone()\n",
    "\n",
    "# Set optimization parameters\n",
    "optimizer = torch.optim.Adam([stylized_image], lr=10)\n",
    "\n",
    "# Optimization loop\n",
    "for _ in range(1000):\n",
    "    optimizer.zero_grad()\n",
    "    \n",
    "    # Encode the stylized image\n",
    "    stylized_image_features = model.encode_image(stylized_image)\n",
    "    \n",
    "    # Loss: minimize the distance between stylized image features and both image and text features\n",
    "    loss = torch.nn.functional.mse_loss(stylized_image_features, image_features) + torch.nn.functional.mse_loss(stylized_image_features, text_features)\n",
    "    \n",
    "    # Backpropagation\n",
    "    loss.backward(retain_graph=True)\n",
    "    optimizer.step()\n",
    "\n",
    "# Convert the stylized image tensor to a PIL image\n",
    "stylized_image = transforms.functional.to_pil_image(stylized_image.squeeze().cpu())\n",
    "\n",
    "# Display the stylized image\n",
    "stylized_image.show()\n"
   ]
  }
 ],
 "metadata": {
  "kernelspec": {
   "display_name": "Python 3",
   "language": "python",
   "name": "python3"
  },
  "language_info": {
   "codemirror_mode": {
    "name": "ipython",
    "version": 3
   },
   "file_extension": ".py",
   "mimetype": "text/x-python",
   "name": "python",
   "nbconvert_exporter": "python",
   "pygments_lexer": "ipython3",
   "version": "3.9.5"
  }
 },
 "nbformat": 4,
 "nbformat_minor": 2
}
